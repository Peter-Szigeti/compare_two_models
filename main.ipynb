{
 "cells": [
  {
   "cell_type": "code",
   "execution_count": 54,
   "metadata": {},
   "outputs": [],
   "source": [
    "import torch\n",
    "import numpy as np\n",
    "import torch.optim as optim\n",
    "import matplotlib.pyplot as plt\n",
    "import torch.nn as nn\n",
    "import math\n",
    "from utils import Model, generate_sigmoid_data\n"
   ]
  },
  {
   "cell_type": "code",
   "execution_count": 55,
   "metadata": {},
   "outputs": [],
   "source": [
    "a = np.zeros((10,10))\n",
    "mtype = \"linear\"\n",
    "for i in range(10):\n",
    "    for j in range(10):\n",
    "        noise = i/10\n",
    "        minmax = 0.8 + j/10\n",
    "        X_train, X_test, y_train, y_test = generate_sigmoid_data(1000,noise,minmax)\n",
    "        model = Model(mtype, 1)\n",
    "        model.train(X_train, y_train,0.3,1000)\n",
    "        a[i,j] = model.calculate_R2(X_test, y_test)\n",
    "\n",
    "    \n",
    "    "
   ]
  }
 ],
 "metadata": {
  "kernelspec": {
   "display_name": "Python 3",
   "language": "python",
   "name": "python3"
  },
  "language_info": {
   "codemirror_mode": {
    "name": "ipython",
    "version": 3
   },
   "file_extension": ".py",
   "mimetype": "text/x-python",
   "name": "python",
   "nbconvert_exporter": "python",
   "pygments_lexer": "ipython3",
   "version": "3.10.8"
  }
 },
 "nbformat": 4,
 "nbformat_minor": 2
}
